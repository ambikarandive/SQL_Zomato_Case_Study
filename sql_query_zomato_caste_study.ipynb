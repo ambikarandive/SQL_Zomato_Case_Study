{
 "cells": [
  {
   "cell_type": "code",
   "execution_count": 1,
   "id": "3d8421ef",
   "metadata": {},
   "outputs": [],
   "source": [
    "import pandas as pd\n",
    "import sqlite3 as sql\n"
   ]
  },
  {
   "cell_type": "code",
   "execution_count": 2,
   "id": "5e66b8d5",
   "metadata": {},
   "outputs": [],
   "source": [
    "df_table1 = pd.read_csv('users.csv')\n",
    "df_table2 = pd.read_csv('menu.csv')\n",
    "df_table3 = pd.read_csv('restaurants.csv')\n",
    "df_table4 = pd.read_csv('orders.csv')\n",
    "df_table5 = pd.read_csv('order_details.csv')\n",
    "df_table6 = pd.read_csv('food.csv')\n",
    "df_table7 = pd.read_csv('delivery_partner.csv')"
   ]
  },
  {
   "cell_type": "code",
   "execution_count": 3,
   "id": "88cfb233",
   "metadata": {},
   "outputs": [],
   "source": [
    "conn = sql.connect(':memory:')"
   ]
  },
  {
   "cell_type": "code",
   "execution_count": 4,
   "id": "9e32a79d",
   "metadata": {},
   "outputs": [
    {
     "data": {
      "text/plain": [
       "5"
      ]
     },
     "execution_count": 4,
     "metadata": {},
     "output_type": "execute_result"
    }
   ],
   "source": [
    "df_table1.to_sql('users', conn, index=False)\n",
    "df_table2.to_sql('menu', conn, index=False)\n",
    "df_table3.to_sql('restaurants', conn, index=False)\n",
    "df_table4.to_sql('orders', conn, index=False)\n",
    "df_table5.to_sql('order_details', conn, index=False)\n",
    "df_table6.to_sql('food', conn, index=False)\n",
    "df_table7.to_sql('delivery_partner', conn, index=False)"
   ]
  },
  {
   "cell_type": "code",
   "execution_count": 5,
   "id": "728cd63c",
   "metadata": {},
   "outputs": [],
   "source": [
    "query =\"select * from restaurants\""
   ]
  },
  {
   "cell_type": "markdown",
   "id": "7078eac2",
   "metadata": {},
   "source": [
    "#we are just carrying out the list of restaurants from restauarant table"
   ]
  },
  {
   "cell_type": "code",
   "execution_count": 6,
   "id": "0bbbbe45",
   "metadata": {},
   "outputs": [],
   "source": [
    "result = pd.read_sql_query(query, conn)"
   ]
  },
  {
   "cell_type": "code",
   "execution_count": null,
   "id": "b7856f14",
   "metadata": {},
   "outputs": [],
   "source": []
  },
  {
   "cell_type": "code",
   "execution_count": 7,
   "id": "769b97b9",
   "metadata": {},
   "outputs": [
    {
     "name": "stdout",
     "output_type": "stream",
     "text": [
      "   r_id      r_name       cuisine\n",
      "0     1     dominos       Italian\n",
      "1     2         kfc      American\n",
      "2     3        box8  North Indian\n",
      "3     4  Dosa Plaza  South Indian\n",
      "4     5  China Town       Chinese\n"
     ]
    }
   ],
   "source": [
    "print(result)"
   ]
  },
  {
   "cell_type": "code",
   "execution_count": 8,
   "id": "148563b6",
   "metadata": {},
   "outputs": [],
   "source": [
    "query1 =\"\"\"\n",
    "select price\n",
    "FROM menu m \"\"\"\n"
   ]
  },
  {
   "cell_type": "markdown",
   "id": "49af4935",
   "metadata": {},
   "source": [
    "#in this query we are listing out the price of each menu"
   ]
  },
  {
   "cell_type": "code",
   "execution_count": 9,
   "id": "9dfa5b46",
   "metadata": {},
   "outputs": [
    {
     "name": "stdout",
     "output_type": "stream",
     "text": [
      "    price\n",
      "0     450\n",
      "1     400\n",
      "2     100\n",
      "3     115\n",
      "4     230\n",
      "5     300\n",
      "6      80\n",
      "7     160\n",
      "8     140\n",
      "9     230\n",
      "10    180\n",
      "11    120\n",
      "12    250\n",
      "13    220\n",
      "14    180\n"
     ]
    }
   ],
   "source": [
    "result2 = pd.read_sql_query(query1, conn)\n",
    "\n",
    "print(result2)"
   ]
  },
  {
   "cell_type": "code",
   "execution_count": 10,
   "id": "e6ca4702",
   "metadata": {},
   "outputs": [],
   "source": [
    "query2 =\"\"\"\n",
    "select name \n",
    "from users\n",
    "where user_id NOT IN \n",
    "(SELECT user_id from orders)\"\"\""
   ]
  },
  {
   "cell_type": "markdown",
   "id": "e02520ab",
   "metadata": {},
   "source": [
    "#we have to find the user name where they havent ordered , so in this we select the user_id from orders means that user_id who placed the orders so from the users tables we get who havent ordered using NOT IN command"
   ]
  },
  {
   "cell_type": "code",
   "execution_count": 11,
   "id": "deb1b819",
   "metadata": {},
   "outputs": [
    {
     "name": "stdout",
     "output_type": "stream",
     "text": [
      "      name\n",
      "0  Anupama\n",
      "1  Rishabh\n"
     ]
    }
   ],
   "source": [
    "result3 = pd.read_sql_query(query2, conn)\n",
    "\n",
    "print(result3)"
   ]
  },
  {
   "cell_type": "code",
   "execution_count": 12,
   "id": "b46e950e",
   "metadata": {},
   "outputs": [],
   "source": [
    "query3 =\"\"\"\n",
    "select r.r_name, count(*) as 'month'\n",
    "from orders o\n",
    "join restaurants r\n",
    "on o.r_id=r.r_id\n",
    "group by r.r_name\n",
    "order by count(*) desc limit 1\"\"\""
   ]
  },
  {
   "cell_type": "markdown",
   "id": "4ae515e2",
   "metadata": {},
   "source": [
    "#in this query we are finding the top restaurants in terms of number of orders for a given month"
   ]
  },
  {
   "cell_type": "code",
   "execution_count": 13,
   "id": "7ce1cee0",
   "metadata": {},
   "outputs": [
    {
     "name": "stdout",
     "output_type": "stream",
     "text": [
      "  r_name  month\n",
      "0    kfc      8\n"
     ]
    }
   ],
   "source": [
    "result4=pd.read_sql_query(query3, conn)\n",
    "print(result4)"
   ]
  },
  {
   "cell_type": "code",
   "execution_count": 14,
   "id": "7ea7d1ce",
   "metadata": {},
   "outputs": [],
   "source": [
    "query5=\"\"\"\n",
    "select r.r_name, SUM(amount) as 'revenue'\n",
    "from orders o\n",
    "join restaurants r\n",
    "on r.r_id=o.r_id\n",
    "group by r.r_name\n",
    "having revenue > 500\"\"\"\n"
   ]
  },
  {
   "cell_type": "markdown",
   "id": "ce146cb3",
   "metadata": {},
   "source": [
    "#we have to finding out the total revenue of all months and we are carrying out the restauarant where revenue is greater than 500"
   ]
  },
  {
   "cell_type": "code",
   "execution_count": 15,
   "id": "90853023",
   "metadata": {},
   "outputs": [],
   "source": [
    "result5=pd.read_sql_query(query5,conn)"
   ]
  },
  {
   "cell_type": "code",
   "execution_count": 16,
   "id": "5864b7b4",
   "metadata": {},
   "outputs": [
    {
     "name": "stdout",
     "output_type": "stream",
     "text": [
      "       r_name  revenue\n",
      "0  China Town     1450\n",
      "1  Dosa Plaza     1480\n",
      "2        box8      940\n",
      "3     dominos     3050\n",
      "4         kfc     3570\n"
     ]
    }
   ],
   "source": [
    "print(result5)"
   ]
  },
  {
   "cell_type": "code",
   "execution_count": 17,
   "id": "938bce7b",
   "metadata": {},
   "outputs": [],
   "source": [
    "query6=\"\"\"\n",
    "select r.r_name, COUNT(*) AS 'LOYAL_CUSTOMERS'\n",
    "FROM (select r_id,user_id,COUNT(*) AS 'visits'\n",
    "      from orders\n",
    "      group by r_id, user_id\n",
    "      having visits>1) t\n",
    "join restaurants r \n",
    "on r.r_id=t.r_id\n",
    "group by t.r_id\n",
    "order by LOYAL_CUSTOMERS\n",
    "DESC LIMIT 1\"\"\""
   ]
  },
  {
   "cell_type": "markdown",
   "id": "f3125c63",
   "metadata": {},
   "source": [
    "#find restaurants with max repeated customers"
   ]
  },
  {
   "cell_type": "code",
   "execution_count": 18,
   "id": "71b3ed3f",
   "metadata": {},
   "outputs": [],
   "source": [
    "result6 = pd.read_sql_query(query6,conn)"
   ]
  },
  {
   "cell_type": "code",
   "execution_count": 19,
   "id": "777068a6",
   "metadata": {},
   "outputs": [
    {
     "name": "stdout",
     "output_type": "stream",
     "text": [
      "  r_name  LOYAL_CUSTOMERS\n",
      "0    kfc                2\n"
     ]
    }
   ],
   "source": [
    "print(result6)"
   ]
  },
  {
   "cell_type": "code",
   "execution_count": 20,
   "id": "e2cb645a",
   "metadata": {},
   "outputs": [],
   "source": [
    "query7=\"\"\"\n",
    "select strftime('%m', o.date) AS 'month',SUM(amount)\n",
    "from orders o\n",
    "group by month \"\"\""
   ]
  },
  {
   "cell_type": "markdown",
   "id": "e19dd0e6",
   "metadata": {},
   "source": [
    "#month over month revenue growth of swiggy#"
   ]
  },
  {
   "cell_type": "code",
   "execution_count": 21,
   "id": "96d58389",
   "metadata": {},
   "outputs": [],
   "source": [
    "result7=pd.read_sql_query(query7,conn)"
   ]
  },
  {
   "cell_type": "code",
   "execution_count": 22,
   "id": "8e426e35",
   "metadata": {},
   "outputs": [
    {
     "name": "stdout",
     "output_type": "stream",
     "text": [
      "  month  SUM(amount)\n",
      "0    05         2425\n",
      "1    06         3220\n",
      "2    07         4845\n"
     ]
    }
   ],
   "source": [
    "print(result7)"
   ]
  },
  {
   "cell_type": "code",
   "execution_count": 38,
   "id": "cd9d3a08",
   "metadata": {},
   "outputs": [],
   "source": [
    "query8=\"\"\"\n",
    "select month, ((revenue - prev)*100/prev) as 'monthyly growth' from ( \n",
    "    with Sales as \n",
    "   (\n",
    "     select strftime('%m', o.date) AS 'month',SUM(amount) as 'revenue'\n",
    "     from orders o\n",
    "     group by month\n",
    "     order by month\n",
    "    )\n",
    "   \n",
    "   select month,revenue,LAG(revenue,1) over(order by revenue) as prev from Sales) t\n",
    "\"\"\""
   ]
  },
  {
   "cell_type": "code",
   "execution_count": 39,
   "id": "2a164f81",
   "metadata": {},
   "outputs": [],
   "source": [
    "result8=pd.read_sql_query(query8,conn)"
   ]
  },
  {
   "cell_type": "code",
   "execution_count": 40,
   "id": "41a69c47",
   "metadata": {},
   "outputs": [
    {
     "name": "stdout",
     "output_type": "stream",
     "text": [
      "  month  monthyly growth\n",
      "0    05              NaN\n",
      "1    06             32.0\n",
      "2    07             50.0\n"
     ]
    }
   ],
   "source": [
    "print(result8)"
   ]
  },
  {
   "cell_type": "code",
   "execution_count": 41,
   "id": "cccbbf8c",
   "metadata": {},
   "outputs": [],
   "source": [
    "query9=\"\"\"\n",
    "select f.f_name, AVG(price) as \"AVG PRICE\"\n",
    "FROM menu m\n",
    "JOIN food f\n",
    "on m.f_id = f.f_id\n",
    "group by f.f_name\"\"\""
   ]
  },
  {
   "cell_type": "markdown",
   "id": "776a9da9",
   "metadata": {},
   "source": [
    "#in this we are carrying out the average price of each dish"
   ]
  },
  {
   "cell_type": "code",
   "execution_count": 42,
   "id": "eea1923f",
   "metadata": {},
   "outputs": [],
   "source": [
    "result9=pd.read_sql_query(query9,conn)"
   ]
  },
  {
   "cell_type": "code",
   "execution_count": 43,
   "id": "61b2615e",
   "metadata": {},
   "outputs": [
    {
     "name": "stdout",
     "output_type": "stream",
     "text": [
      "              f_name   AVG PRICE\n",
      "0    Chicken Popcorn  300.000000\n",
      "1      Chicken Wings  230.000000\n",
      "2    Choco Lava cake   98.333333\n",
      "3        Masala Dosa  180.000000\n",
      "4      Non-veg Pizza  450.000000\n",
      "5          Rava Idli  120.000000\n",
      "6          Rice Meal  213.333333\n",
      "7          Roti meal  140.000000\n",
      "8   Schezwan Noodles  220.000000\n",
      "9     Veg Manchurian  180.000000\n",
      "10         Veg Pizza  400.000000\n"
     ]
    }
   ],
   "source": [
    "print(result9)"
   ]
  },
  {
   "cell_type": "markdown",
   "id": "b93ce76a",
   "metadata": {},
   "source": [
    "#customer and his favourite food"
   ]
  },
  {
   "cell_type": "code",
   "execution_count": 51,
   "id": "4f524b98",
   "metadata": {},
   "outputs": [],
   "source": [
    "query10=\"\"\"\n",
    "with temp as (\n",
    "              select o.user_id,od.f_id,count(*) as 'frequency'\n",
    "              from orders o\n",
    "              join order_details od \n",
    "              on o.order_id =od.order_id\n",
    "              group by o.user_id, od.f_id\n",
    "              )\n",
    "select u.name,f.f_name, t1.frequency\n",
    "from temp t1\n",
    "join users u\n",
    "on u.user_id=t1.user_id\n",
    "join food f \n",
    "on f.f_id =t1.f_id\n",
    "where t1.frequency =(\n",
    "                     select max(frequency)\n",
    "                     from temp t2\n",
    "                     where t2.user_id=t1.user_id)\"\"\""
   ]
  },
  {
   "cell_type": "markdown",
   "id": "982bbc21",
   "metadata": {},
   "source": [
    "#here we are finding out the favourite customer food where they have placed the same order for more number of time"
   ]
  },
  {
   "cell_type": "code",
   "execution_count": 52,
   "id": "1416c4a9",
   "metadata": {},
   "outputs": [],
   "source": [
    "result10=pd.read_sql_query(query10,conn)"
   ]
  },
  {
   "cell_type": "code",
   "execution_count": 53,
   "id": "447680e6",
   "metadata": {},
   "outputs": [
    {
     "name": "stdout",
     "output_type": "stream",
     "text": [
      "       name            f_name  frequency\n",
      "0    Nitish   Choco Lava cake          5\n",
      "1  Khushboo   Choco Lava cake          3\n",
      "2   Vartika     Chicken Wings          3\n",
      "3     Ankit  Schezwan Noodles          3\n",
      "4     Ankit    Veg Manchurian          3\n",
      "5      Neha   Choco Lava cake          5\n"
     ]
    }
   ],
   "source": [
    "print(result10)"
   ]
  },
  {
   "cell_type": "code",
   "execution_count": 71,
   "id": "95c2b890",
   "metadata": {},
   "outputs": [],
   "source": [
    "query11=\"\"\"\n",
    "select o.order_id, r.r_name,f.f_name\n",
    "from orders o\n",
    "join restaurants r\n",
    "on r.r_id=o.r_id\n",
    "join order_details od\n",
    "on o.order_id=od.order_id\n",
    "join food f\n",
    "on f.f_id=od.f_id\n",
    "where user_id = (select user_id \n",
    "                 from users u\n",
    "                 where name LIKE 'Ankit' and (date > '2022-06-10' and date < '2022-07-10'))\n",
    "\"\"\"\n"
   ]
  },
  {
   "cell_type": "markdown",
   "id": "eef24272",
   "metadata": {},
   "source": [
    "#in this query we have shown all orders with order details for a particular customer in a particular date range"
   ]
  },
  {
   "cell_type": "code",
   "execution_count": 72,
   "id": "493c5315",
   "metadata": {},
   "outputs": [],
   "source": [
    "result11=pd.read_sql_query(query11,conn)"
   ]
  },
  {
   "cell_type": "code",
   "execution_count": 73,
   "id": "dca73fe6",
   "metadata": {},
   "outputs": [
    {
     "name": "stdout",
     "output_type": "stream",
     "text": [
      "   order_id      r_name            f_name\n",
      "0      1018  Dosa Plaza  Schezwan Noodles\n",
      "1      1018  Dosa Plaza    Veg Manchurian\n",
      "2      1019  China Town  Schezwan Noodles\n",
      "3      1019  China Town    Veg Manchurian\n"
     ]
    }
   ],
   "source": [
    "print(result11)"
   ]
  },
  {
   "cell_type": "code",
   "execution_count": null,
   "id": "037573f1",
   "metadata": {},
   "outputs": [],
   "source": []
  }
 ],
 "metadata": {
  "kernelspec": {
   "display_name": "Python 3 (ipykernel)",
   "language": "python",
   "name": "python3"
  },
  "language_info": {
   "codemirror_mode": {
    "name": "ipython",
    "version": 3
   },
   "file_extension": ".py",
   "mimetype": "text/x-python",
   "name": "python",
   "nbconvert_exporter": "python",
   "pygments_lexer": "ipython3",
   "version": "3.9.12"
  }
 },
 "nbformat": 4,
 "nbformat_minor": 5
}
